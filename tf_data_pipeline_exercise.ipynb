{
 "cells": [
  {
   "cell_type": "code",
   "execution_count": 14,
   "id": "a1a90ecd",
   "metadata": {},
   "outputs": [],
   "source": [
    "import tensorflow as tf\n",
    "import warnings\n",
    "warnings.filterwarnings('ignore')"
   ]
  },
  {
   "cell_type": "markdown",
   "id": "d8298c5f",
   "metadata": {},
   "source": [
    "<h3 style='color:green'>Retrieve review file paths in a tensorflow dataset</h3>"
   ]
  },
  {
   "cell_type": "code",
   "execution_count": 15,
   "id": "7f86b1df",
   "metadata": {},
   "outputs": [],
   "source": [
    "reviews_ds = tf.data.Dataset.list_files('reviews/*/*', shuffle = False)"
   ]
  },
  {
   "cell_type": "code",
   "execution_count": 16,
   "id": "c2ec68dc",
   "metadata": {},
   "outputs": [
    {
     "name": "stdout",
     "output_type": "stream",
     "text": [
      "b'reviews/negative/neg_1.txt'\n",
      "b'reviews/negative/neg_2.txt'\n",
      "b'reviews/negative/neg_3.txt'\n",
      "b'reviews/positive/pos_1.txt'\n",
      "b'reviews/positive/pos_2.txt'\n",
      "b'reviews/positive/pos_3.txt'\n"
     ]
    }
   ],
   "source": [
    "for file in reviews_ds:\n",
    "    print(file.numpy())"
   ]
  },
  {
   "cell_type": "markdown",
   "id": "b4fab101",
   "metadata": {},
   "source": [
    "<h3 style='color:green'>Extract review text from these files. Extract label from folder name</h3>"
   ]
  },
  {
   "cell_type": "code",
   "execution_count": 17,
   "id": "fcdc1577",
   "metadata": {},
   "outputs": [],
   "source": [
    "import os\n",
    "def extract_review_and_label(file_path):\n",
    "    return tf.io.read_file(file_path), tf.strings.split(file_path, os.path.sep)[-2]\n",
    "    # return (read the file), (read the label)     "
   ]
  },
  {
   "cell_type": "code",
   "execution_count": 18,
   "id": "5fa0809b",
   "metadata": {},
   "outputs": [
    {
     "name": "stdout",
     "output_type": "stream",
     "text": [
      "Review:  b\"Basically there's a family where a little boy (Jak\"\n",
      "Label:  b'negative'\n",
      "Review:  b'This show was an amazing, fresh & innovative idea '\n",
      "Label:  b'negative'\n",
      "Review:  b''\n",
      "Label:  b'negative'\n",
      "Review:  b'One of the other reviewers has mentioned that afte'\n",
      "Label:  b'positive'\n",
      "Review:  b'A wonderful little production. <br /><br />The fil'\n",
      "Label:  b'positive'\n",
      "Review:  b''\n",
      "Label:  b'positive'\n"
     ]
    }
   ],
   "source": [
    "reviews_ds_1 = reviews_ds.map(extract_review_and_label)\n",
    "for review, label in reviews_ds_1:\n",
    "    print(\"Review: \", review.numpy()[:50])\n",
    "    print(\"Label: \", label.numpy())"
   ]
  },
  {
   "cell_type": "markdown",
   "id": "c679735d",
   "metadata": {},
   "source": [
    "<h3 style='color:green'>Filter blank reviews</h3>"
   ]
  },
  {
   "cell_type": "code",
   "execution_count": 19,
   "id": "8fbba6ea",
   "metadata": {},
   "outputs": [
    {
     "name": "stdout",
     "output_type": "stream",
     "text": [
      "Review:  b\"Basically there's a family where a little boy (Jak\"\n",
      "Label:  b'negative'\n",
      "Review:  b'This show was an amazing, fresh & innovative idea '\n",
      "Label:  b'negative'\n",
      "Review:  b'One of the other reviewers has mentioned that afte'\n",
      "Label:  b'positive'\n",
      "Review:  b'A wonderful little production. <br /><br />The fil'\n",
      "Label:  b'positive'\n"
     ]
    }
   ],
   "source": [
    "reviews_ds_2 = reviews_ds_1.filter(lambda review, label: review != \"\")\n",
    "for review, label in reviews_ds_2.as_numpy_iterator():\n",
    "    print(\"Review: \", review[:50])\n",
    "    print(\"Label: \", label)"
   ]
  },
  {
   "cell_type": "markdown",
   "id": "d357d6a1",
   "metadata": {},
   "source": [
    "<h3 style='color:green'>Perform map, filter and shuffle all in single line of code</h3>"
   ]
  },
  {
   "cell_type": "code",
   "execution_count": 20,
   "id": "e6442215",
   "metadata": {},
   "outputs": [
    {
     "name": "stdout",
     "output_type": "stream",
     "text": [
      "Review:  b'This show was an amazing, fresh & innovative idea '\n",
      "Label:  b'negative'\n",
      "Review:  b\"Basically there's a family where a little boy (Jak\"\n",
      "Label:  b'negative'\n",
      "Review:  b'One of the other reviewers has mentioned that afte'\n",
      "Label:  b'positive'\n",
      "Review:  b'A wonderful little production. <br /><br />The fil'\n",
      "Label:  b'positive'\n"
     ]
    }
   ],
   "source": [
    "final_ds = reviews_ds.map(extract_review_and_label).filter(lambda review, label: review != \"\").shuffle(3)\n",
    "for review, label in final_ds.as_numpy_iterator():\n",
    "    print(\"Review: \", review[:50])\n",
    "    print(\"Label: \", label)"
   ]
  },
  {
   "cell_type": "code",
   "execution_count": null,
   "id": "83390c8b",
   "metadata": {},
   "outputs": [],
   "source": []
  }
 ],
 "metadata": {
  "kernelspec": {
   "display_name": "Python 3 (ipykernel)",
   "language": "python",
   "name": "python3"
  },
  "language_info": {
   "codemirror_mode": {
    "name": "ipython",
    "version": 3
   },
   "file_extension": ".py",
   "mimetype": "text/x-python",
   "name": "python",
   "nbconvert_exporter": "python",
   "pygments_lexer": "ipython3",
   "version": "3.8.10"
  }
 },
 "nbformat": 4,
 "nbformat_minor": 5
}
